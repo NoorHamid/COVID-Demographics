{
 "cells": [
  {
   "cell_type": "markdown",
   "metadata": {},
   "source": [
    "Hypothesis: Are certain Individuals of a particular demographic & age more likely to be infected with/ tested for COVID-19 than others?\n",
    "\n",
    "Question:\n",
    "\n",
    "    Which demographic groups are testing for covid? / Which reported demographic group tested the least/most?\n",
    "\n",
    "    What is the age range?\n",
    "\n",
    "    Were the individuals M/F? \n",
    "\n",
    "    Numeric spread at various testing sites?\n",
    "\n",
    "    What States are testing the most? (Top 5)\n"
   ]
  },
  {
   "cell_type": "code",
   "execution_count": 4,
   "metadata": {
    "ExecuteTime": {
     "end_time": "2021-08-19T17:07:07.437811Z",
     "start_time": "2021-08-19T17:07:07.435485Z"
    }
   },
   "outputs": [],
   "source": [
    "#import Libraries\n",
    "import pandas as pd\n",
    "import numpy as np\n",
    "import matplotlib.pyplot as plt"
   ]
  },
  {
   "cell_type": "code",
   "execution_count": 5,
   "metadata": {
    "ExecuteTime": {
     "end_time": "2021-08-19T17:07:09.661463Z",
     "start_time": "2021-08-19T17:07:07.441228Z"
    }
   },
   "outputs": [
    {
     "name": "stderr",
     "output_type": "stream",
     "text": [
      "b'Skipping line 185834: expected 95 fields, saw 174\\n'\n"
     ]
    }
   ],
   "source": [
    "#import data \n",
    "covid_tests = pd.read_csv(\"/Users/noor.hamid/Documents/covid_demographics/covid_tests.csv\", error_bad_lines=False)"
   ]
  },
  {
   "cell_type": "code",
   "execution_count": 6,
   "metadata": {
    "ExecuteTime": {
     "end_time": "2021-08-19T17:07:09.688529Z",
     "start_time": "2021-08-19T17:07:09.663906Z"
    }
   },
   "outputs": [
    {
     "data": {
      "text/html": [
       "<div>\n",
       "<style scoped>\n",
       "    .dataframe tbody tr th:only-of-type {\n",
       "        vertical-align: middle;\n",
       "    }\n",
       "\n",
       "    .dataframe tbody tr th {\n",
       "        vertical-align: top;\n",
       "    }\n",
       "\n",
       "    .dataframe thead th {\n",
       "        text-align: right;\n",
       "    }\n",
       "</style>\n",
       "<table border=\"1\" class=\"dataframe\">\n",
       "  <thead>\n",
       "    <tr style=\"text-align: right;\">\n",
       "      <th></th>\n",
       "      <th>Appointment Age At Signup</th>\n",
       "      <th>Appointment Age Now</th>\n",
       "      <th>Appointment Campaign Name</th>\n",
       "      <th>Appointment Checked In At</th>\n",
       "      <th>Appointment Claim Token</th>\n",
       "      <th>Appointment Collection Site ID</th>\n",
       "      <th>Appointment Collection Site Name</th>\n",
       "      <th>Appointment Eligibility Quiz Session ID</th>\n",
       "      <th>Appointment Ethnicities</th>\n",
       "      <th>Appointment ID</th>\n",
       "      <th>...</th>\n",
       "      <th>Sample Organization ID</th>\n",
       "      <th>Appointment Address Line1</th>\n",
       "      <th>Ssr Lab ID</th>\n",
       "      <th>Appointment Collection Site Address City</th>\n",
       "      <th>Appointment Collection Site Address Line1</th>\n",
       "      <th>Appointment Collection Site Address Zip5</th>\n",
       "      <th>Appointment Organization ID</th>\n",
       "      <th>Appointment Type</th>\n",
       "      <th>Organization ID</th>\n",
       "      <th>Us Census Ethnicity</th>\n",
       "    </tr>\n",
       "  </thead>\n",
       "  <tbody>\n",
       "    <tr>\n",
       "      <th>0</th>\n",
       "      <td>NaN</td>\n",
       "      <td>NaN</td>\n",
       "      <td>NaN</td>\n",
       "      <td>NaN</td>\n",
       "      <td>NaN</td>\n",
       "      <td>NaN</td>\n",
       "      <td>NaN</td>\n",
       "      <td>NaN</td>\n",
       "      <td>NaN</td>\n",
       "      <td>NaN</td>\n",
       "      <td>...</td>\n",
       "      <td>2282</td>\n",
       "      <td>NaN</td>\n",
       "      <td>72.0</td>\n",
       "      <td>NaN</td>\n",
       "      <td>NaN</td>\n",
       "      <td>NaN</td>\n",
       "      <td>NaN</td>\n",
       "      <td>NaN</td>\n",
       "      <td>2282</td>\n",
       "      <td>Unknown</td>\n",
       "    </tr>\n",
       "    <tr>\n",
       "      <th>1</th>\n",
       "      <td>NaN</td>\n",
       "      <td>NaN</td>\n",
       "      <td>NaN</td>\n",
       "      <td>NaN</td>\n",
       "      <td>NaN</td>\n",
       "      <td>NaN</td>\n",
       "      <td>NaN</td>\n",
       "      <td>NaN</td>\n",
       "      <td>NaN</td>\n",
       "      <td>NaN</td>\n",
       "      <td>...</td>\n",
       "      <td>2282</td>\n",
       "      <td>NaN</td>\n",
       "      <td>72.0</td>\n",
       "      <td>NaN</td>\n",
       "      <td>NaN</td>\n",
       "      <td>NaN</td>\n",
       "      <td>NaN</td>\n",
       "      <td>NaN</td>\n",
       "      <td>2282</td>\n",
       "      <td>Unknown</td>\n",
       "    </tr>\n",
       "    <tr>\n",
       "      <th>2</th>\n",
       "      <td>NaN</td>\n",
       "      <td>NaN</td>\n",
       "      <td>NaN</td>\n",
       "      <td>NaN</td>\n",
       "      <td>NaN</td>\n",
       "      <td>NaN</td>\n",
       "      <td>NaN</td>\n",
       "      <td>NaN</td>\n",
       "      <td>NaN</td>\n",
       "      <td>NaN</td>\n",
       "      <td>...</td>\n",
       "      <td>2282</td>\n",
       "      <td>NaN</td>\n",
       "      <td>72.0</td>\n",
       "      <td>NaN</td>\n",
       "      <td>NaN</td>\n",
       "      <td>NaN</td>\n",
       "      <td>NaN</td>\n",
       "      <td>NaN</td>\n",
       "      <td>2282</td>\n",
       "      <td>Unknown</td>\n",
       "    </tr>\n",
       "    <tr>\n",
       "      <th>3</th>\n",
       "      <td>NaN</td>\n",
       "      <td>NaN</td>\n",
       "      <td>NaN</td>\n",
       "      <td>NaN</td>\n",
       "      <td>NaN</td>\n",
       "      <td>NaN</td>\n",
       "      <td>NaN</td>\n",
       "      <td>NaN</td>\n",
       "      <td>NaN</td>\n",
       "      <td>NaN</td>\n",
       "      <td>...</td>\n",
       "      <td>2282</td>\n",
       "      <td>NaN</td>\n",
       "      <td>72.0</td>\n",
       "      <td>NaN</td>\n",
       "      <td>NaN</td>\n",
       "      <td>NaN</td>\n",
       "      <td>NaN</td>\n",
       "      <td>NaN</td>\n",
       "      <td>2282</td>\n",
       "      <td>Unknown</td>\n",
       "    </tr>\n",
       "    <tr>\n",
       "      <th>4</th>\n",
       "      <td>NaN</td>\n",
       "      <td>NaN</td>\n",
       "      <td>NaN</td>\n",
       "      <td>NaN</td>\n",
       "      <td>NaN</td>\n",
       "      <td>NaN</td>\n",
       "      <td>NaN</td>\n",
       "      <td>NaN</td>\n",
       "      <td>NaN</td>\n",
       "      <td>NaN</td>\n",
       "      <td>...</td>\n",
       "      <td>2282</td>\n",
       "      <td>NaN</td>\n",
       "      <td>72.0</td>\n",
       "      <td>NaN</td>\n",
       "      <td>NaN</td>\n",
       "      <td>NaN</td>\n",
       "      <td>NaN</td>\n",
       "      <td>NaN</td>\n",
       "      <td>2282</td>\n",
       "      <td>Unknown</td>\n",
       "    </tr>\n",
       "  </tbody>\n",
       "</table>\n",
       "<p>5 rows × 95 columns</p>\n",
       "</div>"
      ],
      "text/plain": [
       "   Appointment Age At Signup  Appointment Age Now  Appointment Campaign Name  \\\n",
       "0                        NaN                  NaN                        NaN   \n",
       "1                        NaN                  NaN                        NaN   \n",
       "2                        NaN                  NaN                        NaN   \n",
       "3                        NaN                  NaN                        NaN   \n",
       "4                        NaN                  NaN                        NaN   \n",
       "\n",
       "   Appointment Checked In At  Appointment Claim Token  \\\n",
       "0                        NaN                      NaN   \n",
       "1                        NaN                      NaN   \n",
       "2                        NaN                      NaN   \n",
       "3                        NaN                      NaN   \n",
       "4                        NaN                      NaN   \n",
       "\n",
       "   Appointment Collection Site ID  Appointment Collection Site Name  \\\n",
       "0                             NaN                               NaN   \n",
       "1                             NaN                               NaN   \n",
       "2                             NaN                               NaN   \n",
       "3                             NaN                               NaN   \n",
       "4                             NaN                               NaN   \n",
       "\n",
       "   Appointment Eligibility Quiz Session ID  Appointment Ethnicities  \\\n",
       "0                                      NaN                      NaN   \n",
       "1                                      NaN                      NaN   \n",
       "2                                      NaN                      NaN   \n",
       "3                                      NaN                      NaN   \n",
       "4                                      NaN                      NaN   \n",
       "\n",
       "   Appointment ID  ...  Sample Organization ID  Appointment Address Line1  \\\n",
       "0             NaN  ...                    2282                        NaN   \n",
       "1             NaN  ...                    2282                        NaN   \n",
       "2             NaN  ...                    2282                        NaN   \n",
       "3             NaN  ...                    2282                        NaN   \n",
       "4             NaN  ...                    2282                        NaN   \n",
       "\n",
       "   Ssr Lab ID  Appointment Collection Site Address City  \\\n",
       "0        72.0                                       NaN   \n",
       "1        72.0                                       NaN   \n",
       "2        72.0                                       NaN   \n",
       "3        72.0                                       NaN   \n",
       "4        72.0                                       NaN   \n",
       "\n",
       "   Appointment Collection Site Address Line1  \\\n",
       "0                                        NaN   \n",
       "1                                        NaN   \n",
       "2                                        NaN   \n",
       "3                                        NaN   \n",
       "4                                        NaN   \n",
       "\n",
       "   Appointment Collection Site Address Zip5  Appointment Organization ID  \\\n",
       "0                                       NaN                          NaN   \n",
       "1                                       NaN                          NaN   \n",
       "2                                       NaN                          NaN   \n",
       "3                                       NaN                          NaN   \n",
       "4                                       NaN                          NaN   \n",
       "\n",
       "   Appointment Type  Organization ID  Us Census Ethnicity  \n",
       "0               NaN             2282              Unknown  \n",
       "1               NaN             2282              Unknown  \n",
       "2               NaN             2282              Unknown  \n",
       "3               NaN             2282              Unknown  \n",
       "4               NaN             2282              Unknown  \n",
       "\n",
       "[5 rows x 95 columns]"
      ]
     },
     "execution_count": 6,
     "metadata": {},
     "output_type": "execute_result"
    }
   ],
   "source": [
    "covid_tests.head()"
   ]
  },
  {
   "cell_type": "code",
   "execution_count": 7,
   "metadata": {
    "ExecuteTime": {
     "end_time": "2021-08-19T17:07:09.711596Z",
     "start_time": "2021-08-19T17:07:09.690706Z"
    }
   },
   "outputs": [
    {
     "name": "stdout",
     "output_type": "stream",
     "text": [
      "Demographic groups testing for COVID-19:\n",
      " Unknown                           107497\n",
      "White                              33126\n",
      "Hispanic or Latino of any race     20648\n",
      "Asian                              14491\n",
      "Black or African American           6831\n",
      "Multiethnic                         2364\n",
      "NHOP                                 447\n",
      "Native American or Alaskan           428\n",
      "Name: Us Census Ethnicity, dtype: int64\n"
     ]
    }
   ],
   "source": [
    "#Which demographic groups are making testing appointments? / #Which reported demographic group tested the least/most?\n",
    "ethnicity = covid_tests[\"Us Census Ethnicity\"].value_counts()\n",
    "\n",
    "print(\"Demographic groups testing for COVID-19:\\n\",\n",
    "      ethnicity)"
   ]
  },
  {
   "cell_type": "code",
   "execution_count": 8,
   "metadata": {
    "ExecuteTime": {
     "end_time": "2021-08-19T17:07:09.890694Z",
     "start_time": "2021-08-19T17:07:09.713454Z"
    }
   },
   "outputs": [
    {
     "data": {
      "image/png": "[encoded data removed]",
      "text/plain": [
       "<Figure size 432x288 with 1 Axes>"
      ]
     },
     "metadata": {
      "needs_background": "light"
     },
     "output_type": "display_data"
    }
   ],
   "source": [
    "#ethnicty Viz bar graph\n",
    "ethnicity.plot.barh(color = 'orange')\n",
    "plt.ylabel(\"Ethnicity\")\n",
    "plt.xlabel(\"Occurence\")\n",
    "plt.xlim(0,50000)\n",
    "plt.show() "
   ]
  },
  {
   "cell_type": "code",
   "execution_count": 9,
   "metadata": {
    "ExecuteTime": {
     "end_time": "2021-08-19T17:07:10.067222Z",
     "start_time": "2021-08-19T17:07:09.892613Z"
    }
   },
   "outputs": [
    {
     "data": {
      "image/png": "[encoded data removed]",
      "text/plain": [
       "<Figure size 432x288 with 1 Axes>"
      ]
     },
     "metadata": {
      "needs_background": "light"
     },
     "output_type": "display_data"
    }
   ],
   "source": [
    "#What is the age range?\n",
    "plt.hist(covid_tests[\"Patient Profile Age At Signup\"], bins=30)\n",
    "plt.xlabel('Age')\n",
    "plt.ylabel('Occurence')\n",
    "plt.title('Histogram of Age Range')\n",
    "#plt.xlim(0, 100)\n",
    "#plt.ylim(0, 0)\n",
    "plt.grid(True)\n",
    "plt.show()\n",
    "\n"
   ]
  },
  {
   "cell_type": "code",
   "execution_count": 10,
   "metadata": {
    "ExecuteTime": {
     "end_time": "2021-08-19T17:07:10.086616Z",
     "start_time": "2021-08-19T17:07:10.069599Z"
    }
   },
   "outputs": [
    {
     "data": {
      "text/plain": [
       "M    95697\n",
       "F    90135\n",
       "Name: Patient Profile Sex, dtype: int64"
      ]
     },
     "execution_count": 10,
     "metadata": {},
     "output_type": "execute_result"
    }
   ],
   "source": [
    "#Were the individuals M/F? \n",
    "covid_tests[\"Patient Profile Sex\"].value_counts()\n",
    "#pichart!!!!!"
   ]
  },
  {
   "cell_type": "code",
   "execution_count": 11,
   "metadata": {
    "ExecuteTime": {
     "end_time": "2021-08-19T17:07:10.115948Z",
     "start_time": "2021-08-19T17:07:10.091010Z"
    }
   },
   "outputs": [
    {
     "data": {
      "text/plain": [
       "MIT           82349\n",
       "Facebook      34048\n",
       "OptumServe    20988\n",
       "Channel-19    20462\n",
       "UCSF          18958\n",
       "CDCR           5233\n",
       "ArsenalBio      664\n",
       "Wellesley       409\n",
       "eGenesis        369\n",
       "Oncorus         344\n",
       "Matrivax        284\n",
       "Kitty Hawk      277\n",
       "Korro Bio       231\n",
       "Eisai Inc       191\n",
       "DC Prep         168\n",
       "Vesigen         156\n",
       "TRex Bio        122\n",
       "GigaGen         120\n",
       "Neuron23        102\n",
       "PUMA             83\n",
       "GenEdit          64\n",
       "Earli Inc        50\n",
       "HelixNano        42\n",
       "BMS - NYC        39\n",
       "BMS - DC         32\n",
       "Sonesta          25\n",
       "JOZU LLC         22\n",
       "Name: Sample Campaign Name, dtype: int64"
      ]
     },
     "execution_count": 11,
     "metadata": {},
     "output_type": "execute_result"
    }
   ],
   "source": [
    "#Numeric spread at various testing sites?\n",
    "covid_tests[\"Sample Campaign Name\"].value_counts()\n"
   ]
  },
  {
   "cell_type": "code",
   "execution_count": 12,
   "metadata": {
    "ExecuteTime": {
     "end_time": "2021-08-19T17:07:10.229265Z",
     "start_time": "2021-08-19T17:07:10.119017Z"
    }
   },
   "outputs": [
    {
     "data": {
      "text/plain": [
       "<AxesSubplot:ylabel='Patient Profile State'>"
      ]
     },
     "execution_count": 12,
     "metadata": {},
     "output_type": "execute_result"
    },
    {
     "data": {
      "image/png": "[encoded data removed]",
      "text/plain": [
       "<Figure size 432x288 with 1 Axes>"
      ]
     },
     "metadata": {},
     "output_type": "display_data"
    }
   ],
   "source": [
    "#wWhat states are testing the most? top 5\n",
    "state = covid_tests[\"Patient Profile State\"]\n",
    "state_count = state.value_counts().loc[lambda x : x>2000] \n",
    "state_count.plot.pie()"
   ]
  },
  {
   "cell_type": "markdown",
   "metadata": {},
   "source": [
    "Hypothesis: Vaccination rate will increase exponentially and then slowly taper down\n",
    "\n",
    "Question:\n",
    "\n",
    "    How many vaccines have been administered as of today?\n",
    "    \n",
    "    How many of those administered were in the first 2 weeks? Month? 3 months? 6 Months? \n",
    "    \n",
    "    Was the rate of first dose administration more than that of the second dose?\n",
    "    \n",
    "    Age distribution of individuals getting the vaccine?\n",
    "    \n",
    "    Demographics of individuals that have their first shot? second?\n",
    "    \n",
    "    How many vaccines were administered at each Collection Site?\n",
    "\n"
   ]
  },
  {
   "cell_type": "code",
   "execution_count": 13,
   "metadata": {
    "ExecuteTime": {
     "end_time": "2021-08-19T17:07:12.176063Z",
     "start_time": "2021-08-19T17:07:10.230842Z"
    }
   },
   "outputs": [
    {
     "name": "stderr",
     "output_type": "stream",
     "text": [
      "/usr/local/Cellar/jupyterlab/2.2.9_1/libexec/lib/python3.9/site-packages/IPython/core/interactiveshell.py:3145: DtypeWarning: Columns (1,3,4,5,8,10,11,13,15,16,17,18,19,20,24,25,27,29,30,34,35,37,38,39,40,41,42,43,45,46,48,49,50,52,53,54,56,57,58,60,61,63,66,67,68,70,71,72,73,74,75,76,77,78,79,80,82,85,87,91) have mixed types.Specify dtype option on import or set low_memory=False.\n",
      "  has_raised = await self.run_ast_nodes(code_ast.body, cell_name,\n"
     ]
    }
   ],
   "source": [
    "#import data \n",
    "covid_vaccines = pd.read_csv(\"/Users/noor.hamid/Documents/covid_demographics/covid_vaccines.csv\", error_bad_lines=False)"
   ]
  },
  {
   "cell_type": "code",
   "execution_count": 14,
   "metadata": {
    "ExecuteTime": {
     "end_time": "2021-08-19T17:07:12.204364Z",
     "start_time": "2021-08-19T17:07:12.178110Z"
    }
   },
   "outputs": [
    {
     "data": {
      "text/html": [
       "<div>\n",
       "<style scoped>\n",
       "    .dataframe tbody tr th:only-of-type {\n",
       "        vertical-align: middle;\n",
       "    }\n",
       "\n",
       "    .dataframe tbody tr th {\n",
       "        vertical-align: top;\n",
       "    }\n",
       "\n",
       "    .dataframe thead th {\n",
       "        text-align: right;\n",
       "    }\n",
       "</style>\n",
       "<table border=\"1\" class=\"dataframe\">\n",
       "  <thead>\n",
       "    <tr style=\"text-align: right;\">\n",
       "      <th></th>\n",
       "      <th>Appointment Created At</th>\n",
       "      <th>Color Vaccination Record Created At</th>\n",
       "      <th>Previous Vaccination Info Created At</th>\n",
       "      <th>Age At Vaccination</th>\n",
       "      <th>Appointment Appointment Number</th>\n",
       "      <th>Appointment Availability ID</th>\n",
       "      <th>Appointment Checked In At</th>\n",
       "      <th>Patient Profile State</th>\n",
       "      <th>Appointment Checked In By ID</th>\n",
       "      <th>Appointment Updated At</th>\n",
       "      <th>...</th>\n",
       "      <th>Next Appointment State</th>\n",
       "      <th>Appointment Rank</th>\n",
       "      <th>Clinician Credential Type</th>\n",
       "      <th>Vax State</th>\n",
       "      <th>Vaccine Flow Config Collect Vfc Eligibility</th>\n",
       "      <th>Vfc Eligibility Response ID</th>\n",
       "      <th>Vfc Eligibility Response Created At</th>\n",
       "      <th>Vfc Eligibility Response Updated At</th>\n",
       "      <th>Is Minor</th>\n",
       "      <th>Vfc Eligibility Response Vfc Eligibility</th>\n",
       "    </tr>\n",
       "  </thead>\n",
       "  <tbody>\n",
       "    <tr>\n",
       "      <th>0</th>\n",
       "      <td>2021-08-04T17:45:15.687Z</td>\n",
       "      <td>NaN</td>\n",
       "      <td>NaN</td>\n",
       "      <td>NaN</td>\n",
       "      <td>36342477373</td>\n",
       "      <td>531135.0</td>\n",
       "      <td>NaN</td>\n",
       "      <td>CA</td>\n",
       "      <td>NaN</td>\n",
       "      <td>2021-08-04T18:18:04.228Z</td>\n",
       "      <td>...</td>\n",
       "      <td>NaN</td>\n",
       "      <td>1.0</td>\n",
       "      <td>NaN</td>\n",
       "      <td>cancelled</td>\n",
       "      <td>False</td>\n",
       "      <td>NaN</td>\n",
       "      <td>NaN</td>\n",
       "      <td>NaN</td>\n",
       "      <td>False</td>\n",
       "      <td>NaN</td>\n",
       "    </tr>\n",
       "    <tr>\n",
       "      <th>1</th>\n",
       "      <td>2021-07-28T22:58:54.81Z</td>\n",
       "      <td>NaN</td>\n",
       "      <td>NaN</td>\n",
       "      <td>NaN</td>\n",
       "      <td>85656756038</td>\n",
       "      <td>530881.0</td>\n",
       "      <td>NaN</td>\n",
       "      <td>CA</td>\n",
       "      <td>NaN</td>\n",
       "      <td>2021-07-28T23:27:23.985Z</td>\n",
       "      <td>...</td>\n",
       "      <td>NaN</td>\n",
       "      <td>1.0</td>\n",
       "      <td>NaN</td>\n",
       "      <td>cancelled</td>\n",
       "      <td>False</td>\n",
       "      <td>NaN</td>\n",
       "      <td>NaN</td>\n",
       "      <td>NaN</td>\n",
       "      <td>False</td>\n",
       "      <td>NaN</td>\n",
       "    </tr>\n",
       "    <tr>\n",
       "      <th>2</th>\n",
       "      <td>2021-08-09T13:10:55.728Z</td>\n",
       "      <td>NaN</td>\n",
       "      <td>NaN</td>\n",
       "      <td>NaN</td>\n",
       "      <td>41133210394</td>\n",
       "      <td>546620.0</td>\n",
       "      <td>NaN</td>\n",
       "      <td>CA</td>\n",
       "      <td>NaN</td>\n",
       "      <td>2021-08-09T13:11:12.86Z</td>\n",
       "      <td>...</td>\n",
       "      <td>NaN</td>\n",
       "      <td>1.0</td>\n",
       "      <td>NaN</td>\n",
       "      <td>cancelled</td>\n",
       "      <td>False</td>\n",
       "      <td>NaN</td>\n",
       "      <td>NaN</td>\n",
       "      <td>NaN</td>\n",
       "      <td>False</td>\n",
       "      <td>NaN</td>\n",
       "    </tr>\n",
       "    <tr>\n",
       "      <th>3</th>\n",
       "      <td>2021-08-10T14:01:11.795Z</td>\n",
       "      <td>NaN</td>\n",
       "      <td>2021-08-10T14:01:11.799Z</td>\n",
       "      <td>NaN</td>\n",
       "      <td>61216852360</td>\n",
       "      <td>531035.0</td>\n",
       "      <td>NaN</td>\n",
       "      <td>CA</td>\n",
       "      <td>NaN</td>\n",
       "      <td>2021-08-10T14:01:11.808Z</td>\n",
       "      <td>...</td>\n",
       "      <td>NaN</td>\n",
       "      <td>1.0</td>\n",
       "      <td>NaN</td>\n",
       "      <td>scheduled</td>\n",
       "      <td>False</td>\n",
       "      <td>NaN</td>\n",
       "      <td>NaN</td>\n",
       "      <td>NaN</td>\n",
       "      <td>False</td>\n",
       "      <td>NaN</td>\n",
       "    </tr>\n",
       "    <tr>\n",
       "      <th>4</th>\n",
       "      <td>2021-07-27T04:17:16.963Z</td>\n",
       "      <td>NaN</td>\n",
       "      <td>2021-07-27T04:17:16.966Z</td>\n",
       "      <td>NaN</td>\n",
       "      <td>26150205672</td>\n",
       "      <td>531017.0</td>\n",
       "      <td>NaN</td>\n",
       "      <td>CA</td>\n",
       "      <td>NaN</td>\n",
       "      <td>2021-07-27T04:17:16.976Z</td>\n",
       "      <td>...</td>\n",
       "      <td>NaN</td>\n",
       "      <td>1.0</td>\n",
       "      <td>NaN</td>\n",
       "      <td>scheduled</td>\n",
       "      <td>False</td>\n",
       "      <td>NaN</td>\n",
       "      <td>NaN</td>\n",
       "      <td>NaN</td>\n",
       "      <td>False</td>\n",
       "      <td>NaN</td>\n",
       "    </tr>\n",
       "  </tbody>\n",
       "</table>\n",
       "<p>5 rows × 93 columns</p>\n",
       "</div>"
      ],
      "text/plain": [
       "     Appointment Created At Color Vaccination Record Created At  \\\n",
       "0  2021-08-04T17:45:15.687Z                                 NaN   \n",
       "1   2021-07-28T22:58:54.81Z                                 NaN   \n",
       "2  2021-08-09T13:10:55.728Z                                 NaN   \n",
       "3  2021-08-10T14:01:11.795Z                                 NaN   \n",
       "4  2021-07-27T04:17:16.963Z                                 NaN   \n",
       "\n",
       "  Previous Vaccination Info Created At Age At Vaccination  \\\n",
       "0                                  NaN                NaN   \n",
       "1                                  NaN                NaN   \n",
       "2                                  NaN                NaN   \n",
       "3             2021-08-10T14:01:11.799Z                NaN   \n",
       "4             2021-07-27T04:17:16.966Z                NaN   \n",
       "\n",
       "  Appointment Appointment Number Appointment Availability ID  \\\n",
       "0                    36342477373                    531135.0   \n",
       "1                    85656756038                    530881.0   \n",
       "2                    41133210394                    546620.0   \n",
       "3                    61216852360                    531035.0   \n",
       "4                    26150205672                    531017.0   \n",
       "\n",
       "  Appointment Checked In At Patient Profile State  \\\n",
       "0                       NaN                    CA   \n",
       "1                       NaN                    CA   \n",
       "2                       NaN                    CA   \n",
       "3                       NaN                    CA   \n",
       "4                       NaN                    CA   \n",
       "\n",
       "  Appointment Checked In By ID    Appointment Updated At  ...  \\\n",
       "0                          NaN  2021-08-04T18:18:04.228Z  ...   \n",
       "1                          NaN  2021-07-28T23:27:23.985Z  ...   \n",
       "2                          NaN   2021-08-09T13:11:12.86Z  ...   \n",
       "3                          NaN  2021-08-10T14:01:11.808Z  ...   \n",
       "4                          NaN  2021-07-27T04:17:16.976Z  ...   \n",
       "\n",
       "  Next Appointment State Appointment Rank Clinician Credential Type  \\\n",
       "0                    NaN              1.0                       NaN   \n",
       "1                    NaN              1.0                       NaN   \n",
       "2                    NaN              1.0                       NaN   \n",
       "3                    NaN              1.0                       NaN   \n",
       "4                    NaN              1.0                       NaN   \n",
       "\n",
       "   Vax State Vaccine Flow Config Collect Vfc Eligibility  \\\n",
       "0  cancelled                                       False   \n",
       "1  cancelled                                       False   \n",
       "2  cancelled                                       False   \n",
       "3  scheduled                                       False   \n",
       "4  scheduled                                       False   \n",
       "\n",
       "  Vfc Eligibility Response ID Vfc Eligibility Response Created At  \\\n",
       "0                         NaN                                 NaN   \n",
       "1                         NaN                                 NaN   \n",
       "2                         NaN                                 NaN   \n",
       "3                         NaN                                 NaN   \n",
       "4                         NaN                                 NaN   \n",
       "\n",
       "  Vfc Eligibility Response Updated At Is Minor  \\\n",
       "0                                 NaN    False   \n",
       "1                                 NaN    False   \n",
       "2                                 NaN    False   \n",
       "3                                 NaN    False   \n",
       "4                                 NaN    False   \n",
       "\n",
       "  Vfc Eligibility Response Vfc Eligibility  \n",
       "0                                      NaN  \n",
       "1                                      NaN  \n",
       "2                                      NaN  \n",
       "3                                      NaN  \n",
       "4                                      NaN  \n",
       "\n",
       "[5 rows x 93 columns]"
      ]
     },
     "execution_count": 14,
     "metadata": {},
     "output_type": "execute_result"
    }
   ],
   "source": [
    "#view data\n",
    "covid_vaccines.head()"
   ]
  },
  {
   "cell_type": "code",
   "execution_count": 15,
   "metadata": {
    "ExecuteTime": {
     "end_time": "2021-08-19T17:07:12.224823Z",
     "start_time": "2021-08-19T17:07:12.206349Z"
    }
   },
   "outputs": [
    {
     "data": {
      "text/plain": [
       "True     128561\n",
       "False     37902\n",
       "Name: Appointment State, dtype: int64"
      ]
     },
     "execution_count": 15,
     "metadata": {},
     "output_type": "execute_result"
    }
   ],
   "source": [
    "# How many vaccines have been administered as of today?\n",
    "vaccine_doses = covid_vaccines['Appointment State'] == 'completed'\n",
    "vaccine_doses.value_counts()"
   ]
  },
  {
   "cell_type": "code",
   "execution_count": 16,
   "metadata": {
    "ExecuteTime": {
     "end_time": "2021-08-19T17:07:12.389665Z",
     "start_time": "2021-08-19T17:07:12.226564Z"
    }
   },
   "outputs": [
    {
     "data": {
      "text/plain": [
       "133253    2021-02-22T14:09:01.115Z\n",
       "103894    2021-02-22T14:09:06.373Z\n",
       "99424     2021-02-22T14:10:54.577Z\n",
       "88752     2021-02-22T14:16:18.078Z\n",
       "52024     2021-02-22T14:16:22.867Z\n",
       "                    ...           \n",
       "137779    2021-08-11T14:30:58.516Z\n",
       "137732    2021-08-11T14:50:22.237Z\n",
       "137737     2021-08-11T15:13:20.96Z\n",
       "138731    2021-08-11T15:52:24.152Z\n",
       "166462                        973]\n",
       "Name: Color Vaccination Record Administered At, Length: 128566, dtype: object"
      ]
     },
     "execution_count": 16,
     "metadata": {},
     "output_type": "execute_result"
    }
   ],
   "source": [
    "#How many of those administered were in the first 2 weeks? Month? 3 months? 6 Months?\n",
    "administered = covid_vaccines['Color Vaccination Record Administered At'].dropna()\n",
    "administered.sort_values(ascending = True)\n"
   ]
  },
  {
   "cell_type": "code",
   "execution_count": 39,
   "metadata": {
    "ExecuteTime": {
     "end_time": "2021-08-19T18:55:16.696573Z",
     "start_time": "2021-08-19T18:55:16.692019Z"
    }
   },
   "outputs": [
    {
     "data": {
      "text/plain": [
       "21                 48.00000\n",
       "22                 43.00000\n",
       "23                 38.00000\n",
       "24                 50.00000\n",
       "25                 39.00000\n",
       "                ...        \n",
       "166458                 56.0\n",
       "166459                 42.0\n",
       "166460                 53.0\n",
       "166461                 34.0\n",
       "166462    type:\"timed-out\"}\n",
       "Name: Age At Vaccination, Length: 128566, dtype: object"
      ]
     },
     "execution_count": 39,
     "metadata": {},
     "output_type": "execute_result"
    }
   ],
   "source": [
    "#  Was the rate of first dose administration more than that of the second dose?\n",
    "age"
   ]
  },
  {
   "cell_type": "code",
   "execution_count": 58,
   "metadata": {
    "ExecuteTime": {
     "end_time": "2021-08-19T19:03:10.545282Z",
     "start_time": "2021-08-19T19:03:10.522568Z"
    }
   },
   "outputs": [
    {
     "data": {
      "text/plain": [
       "21        48\n",
       "22        43\n",
       "23        38\n",
       "24        50\n",
       "25        39\n",
       "          ..\n",
       "166457    45\n",
       "166458    56\n",
       "166459    42\n",
       "166460    53\n",
       "166461    34\n",
       "Name: Age At Vaccination, Length: 128565, dtype: int64"
      ]
     },
     "execution_count": 58,
     "metadata": {},
     "output_type": "execute_result"
    }
   ],
   "source": [
    "# Age distribution of individuals getting the vaccine?\n",
    "age = covid_vaccines['Age At Vaccination'].dropna()\n",
    "age = age.drop([166462])\n",
    "age = age.astype(float)\n",
    "age.astype(int)\n"
   ]
  },
  {
   "cell_type": "code",
   "execution_count": 59,
   "metadata": {
    "ExecuteTime": {
     "end_time": "2021-08-19T19:03:41.432900Z",
     "start_time": "2021-08-19T19:03:41.262193Z"
    }
   },
   "outputs": [
    {
     "data": {
      "text/plain": [
       "(array([ 4772., 15904., 16578., 16689., 14693., 20735., 19756., 15127.,\n",
       "         2757.,  1554.]),\n",
       " array([12. , 19.8, 27.6, 35.4, 43.2, 51. , 58.8, 66.6, 74.4, 82.2, 90. ]),\n",
       " <BarContainer object of 10 artists>)"
      ]
     },
     "execution_count": 59,
     "metadata": {},
     "output_type": "execute_result"
    },
    {
     "data": {
      "image/png": "[encoded data removed]",
      "text/plain": [
       "<Figure size 432x288 with 1 Axes>"
      ]
     },
     "metadata": {
      "needs_background": "light"
     },
     "output_type": "display_data"
    }
   ],
   "source": [
    "# plt.hist(age)\n",
    "plt.hist(age)\n"
   ]
  },
  {
   "cell_type": "code",
   "execution_count": 30,
   "metadata": {
    "ExecuteTime": {
     "end_time": "2021-08-19T17:20:58.536066Z",
     "start_time": "2021-08-19T17:20:58.505966Z"
    }
   },
   "outputs": [
    {
     "data": {
      "text/plain": [
       "(False    165359\n",
       " True       1104\n",
       " Name: Vaccine Series Dose Number, dtype: int64,\n",
       " False    164945\n",
       " True       1518\n",
       " Name: Vaccine Series Dose Number, dtype: int64)"
      ]
     },
     "execution_count": 30,
     "metadata": {},
     "output_type": "execute_result"
    }
   ],
   "source": [
    "# Demographics of individuals that have their first shot? second?\n",
    "first_shot = covid_vaccines['Vaccine Series Dose Number']=='1'\n",
    "dose1=first_shot.value_counts()\n",
    "second_shot = covid_vaccines['Vaccine Series Dose Number']=='2'\n",
    "dose2=second_shot.value_counts()\n",
    "dose1,dose2 \n"
   ]
  },
  {
   "cell_type": "code",
   "execution_count": null,
   "metadata": {
    "ExecuteTime": {
     "end_time": "2021-08-19T17:07:12.437410Z",
     "start_time": "2021-08-19T17:07:07.454Z"
    }
   },
   "outputs": [],
   "source": [
    "# How many vaccines were administered at each Collection Site?\n"
   ]
  }
 ],
 "metadata": {
  "kernelspec": {
   "display_name": "Python 3",
   "language": "python",
   "name": "python3"
  },
  "language_info": {
   "codemirror_mode": {
    "name": "ipython",
    "version": 3
   },
   "file_extension": ".py",
   "mimetype": "text/x-python",
   "name": "python",
   "nbconvert_exporter": "python",
   "pygments_lexer": "ipython3",
   "version": "3.9.1"
  },
  "toc": {
   "base_numbering": 1,
   "nav_menu": {},
   "number_sections": true,
   "sideBar": true,
   "skip_h1_title": false,
   "title_cell": "Table of Contents",
   "title_sidebar": "Contents",
   "toc_cell": false,
   "toc_position": {},
   "toc_section_display": true,
   "toc_window_display": false
  }
 },
 "nbformat": 4,
 "nbformat_minor": 4
}
